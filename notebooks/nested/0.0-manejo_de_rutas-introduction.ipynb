{
 "cells": [
  {
   "cell_type": "code",
   "execution_count": 3,
   "metadata": {},
   "outputs": [],
   "source": [
    "import os\n"
   ]
  },
  {
   "cell_type": "code",
   "execution_count": 21,
   "metadata": {},
   "outputs": [],
   "source": [
    "current_dir = os.getcwd()\n",
    "data_dir= os.path.join(current_dir, os.pardir, os.pardir,\"data\",\"raw\")\n"
   ]
  },
  {
   "cell_type": "code",
   "execution_count": 26,
   "metadata": {},
   "outputs": [
    {
     "data": {
      "text/plain": [
       "True"
      ]
     },
     "execution_count": 26,
     "metadata": {},
     "output_type": "execute_result"
    }
   ],
   "source": [
    "#os.path.exists(data_dir)\n",
    "\n",
    "os.path.isdir(data_dir)"
   ]
  },
  {
   "cell_type": "code",
   "execution_count": 29,
   "metadata": {},
   "outputs": [
    {
     "data": {
      "text/plain": [
       "['/Users/saimonssd/Desktop/tmp/manejo_de_rutas/notebooks/nested/../../data/raw/.gitkeep',\n",
       " '/Users/saimonssd/Desktop/tmp/manejo_de_rutas/notebooks/nested/../../data/raw/test.txt']"
      ]
     },
     "execution_count": 29,
     "metadata": {},
     "output_type": "execute_result"
    }
   ],
   "source": [
    "[os.path.join(data_dir, item) for item in os.listdir(data_dir)]"
   ]
  },
  {
   "cell_type": "code",
   "execution_count": 30,
   "metadata": {},
   "outputs": [],
   "source": [
    "os.mkdir(os.path.join(data_dir, \"os\"))"
   ]
  }
 ],
 "metadata": {
  "kernelspec": {
   "display_name": "manejo_de_rutas",
   "language": "python",
   "name": "python3"
  },
  "language_info": {
   "codemirror_mode": {
    "name": "ipython",
    "version": 3
   },
   "file_extension": ".py",
   "mimetype": "text/x-python",
   "name": "python",
   "nbconvert_exporter": "python",
   "pygments_lexer": "ipython3",
   "version": "3.9.12"
  },
  "orig_nbformat": 4,
  "vscode": {
   "interpreter": {
    "hash": "3633e78e4b0a491521bcea68011b236b9bc348651f49b620218d3657019462a1"
   }
  }
 },
 "nbformat": 4,
 "nbformat_minor": 2
}
